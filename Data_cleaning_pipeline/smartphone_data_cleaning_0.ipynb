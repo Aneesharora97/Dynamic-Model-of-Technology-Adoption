{
 "cells": [
  {
   "cell_type": "markdown",
   "id": "55552f21",
   "metadata": {},
   "source": [
    "#  Smartphone Data Cleaning and Exploration.\n",
    "Generates: \"cleaned(ver 1).csv\"\n"
   ]
  },
  {
   "cell_type": "code",
   "execution_count": null,
   "id": "a4e350f4",
   "metadata": {},
   "outputs": [],
   "source": [
    "# 📦 Import Libraries\n",
    "import pandas as pd\n",
    "import numpy as np\n",
    "import matplotlib.pyplot as plt\n",
    "import seaborn as sns\n",
    "from mpl_toolkits import mplot3d\n",
    "\n",
    "# 📁 Mount Google Drive (if using Google Colab)\n",
    "from google.colab import drive\n",
    "drive.mount('/content/drive')"
   ]
  },
  {
   "cell_type": "code",
   "execution_count": null,
   "id": "eadb6e8b",
   "metadata": {},
   "outputs": [],
   "source": [
    "# -----------------------------\n",
    "# 📌 Load Raw Data\n",
    "# -----------------------------\n",
    "columns_all = ['Quarter', 'Year', 'Brand', 'OS Version', 'Screen Size', 'Storage (GB)', 'Segment Group', 'Units', 'Value (US$M)']\n",
    "columns_segment = ['Quarter', 'Year', 'Brand', 'OS Version', 'Screen Size', 'Storage (GB)', 'Units', 'Value (US$M)']\n",
    "\n",
    "df_raw = pd.read_csv('/content/drive/MyDrive/IDC data/H_Data_smartphone.csv')\n",
    "df_segment = pd.read_csv('/content/drive/MyDrive/IDC data/H_data(segment).csv')"
   ]
  },
  {
   "cell_type": "code",
   "execution_count": null,
   "id": "5b509e79",
   "metadata": {},
   "outputs": [],
   "source": [
    "# -----------------------------\n",
    "# 📌 Initial Filtering and Feature Engineering\n",
    "# -----------------------------\n",
    "df_clean = df_raw[df_raw['Model Name'].notna()].copy()\n",
    "df_clean['ASP'] = df_clean['Value (US$M)'] / df_clean['Units']\n",
    "df_clean['Share (%)'] = (df_clean['Units'] / df_clean['Units'].sum()) * 100"
   ]
  },
  {
   "cell_type": "code",
   "execution_count": null,
   "id": "cc422781",
   "metadata": {},
   "outputs": [],
   "source": [
    "# -----------------------------\n",
    "# 📌 Cellular Technology Mapping\n",
    "# -----------------------------\n",
    "connectivity_map = {\n",
    "    'WiFi / 2G': 2,\n",
    "    'WiFi / 3G': 3,\n",
    "    'WiFi / 4G': 4\n",
    "}\n",
    "df_clean['Cellular'] = df_clean['Connectivity'].map(connectivity_map).fillna(5).astype(int)"
   ]
  },
  {
   "cell_type": "code",
   "execution_count": null,
   "id": "0dff1d2b",
   "metadata": {},
   "outputs": [],
   "source": [
    "# -----------------------------\n",
    "# 📊 Brand Filtering for Graphs\n",
    "# -----------------------------\n",
    "top_brands = ['Apple', 'Samsung', 'Motorola', 'Sony', 'Microsoft', 'Google']\n",
    "df_top = df_clean[df_clean['Brand'].isin(top_brands)].copy()"
   ]
  },
  {
   "cell_type": "code",
   "execution_count": null,
   "id": "4408cc0c",
   "metadata": {},
   "outputs": [],
   "source": [
    "# -----------------------------\n",
    "# 📊 Count and Share Aggregation\n",
    "# -----------------------------\n",
    "df_count = df_clean.groupby(['Year', 'Brand', 'Cellular', 'Model Name']).size().reset_index(name='Model Count')\n",
    "df_share = df_clean.groupby(['Year', 'Brand'])['Share (%)'].sum().reset_index()\n",
    "df_stats = pd.merge(df_count, df_share, on=['Year', 'Brand'])"
   ]
  },
  {
   "cell_type": "code",
   "execution_count": null,
   "id": "967351c5",
   "metadata": {},
   "outputs": [],
   "source": [
    "# -----------------------------\n",
    "# 📈 3D Plot: Year vs Cellular vs Brand (Apple and Samsung)\n",
    "# -----------------------------\n",
    "graph_data = df_stats[df_stats['Brand'].isin(['Apple', 'Samsung'])].copy()\n",
    "graph_data['Brand Code'] = graph_data['Brand'].map({'Apple': 1, 'Samsung': 2})\n",
    "\n",
    "fig = plt.figure()\n",
    "ax = plt.axes(projection='3d')\n",
    "ax.plot3D(\n",
    "    graph_data['Year'].astype(int),\n",
    "    graph_data['Cellular'],\n",
    "    graph_data['Brand Code']\n",
    ")\n",
    "plt.title(\"3D View: Year vs Cellular Tech vs Brand (Apple/Samsung)\")\n",
    "plt.show()"
   ]
  },
  {
   "cell_type": "code",
   "execution_count": null,
   "id": "3747aa7e",
   "metadata": {},
   "outputs": [],
   "source": [
    "# -----------------------------\n",
    "# 📉 Scatterplot: Year vs Model Count by Cellular\n",
    "# -----------------------------\n",
    "sns.relplot(\n",
    "    data=graph_data,\n",
    "    x=\"Year\",\n",
    "    y=\"Model Count\",\n",
    "    hue=\"Cellular\",\n",
    "    kind=\"scatter\"\n",
    ").fig.axes[0].invert_yaxis()"
   ]
  },
  {
   "cell_type": "code",
   "execution_count": null,
   "id": "fadd9286",
   "metadata": {},
   "outputs": [],
   "source": [
    "# -----------------------------\n",
    "# 📈 Line Plot: Brand Share over Time\n",
    "# -----------------------------\n",
    "sns.relplot(\n",
    "    data=df_top,\n",
    "    x=\"Year\",\n",
    "    y=\"Share (%)\",\n",
    "    hue=\"Brand\",\n",
    "    kind=\"line\"\n",
    ").fig.set_size_inches(10, 6)"
   ]
  },
  {
   "cell_type": "code",
   "execution_count": null,
   "id": "9da5d8d2",
   "metadata": {},
   "outputs": [],
   "source": [
    "# -----------------------------\n",
    "# 🔍 Deep Dive: Apple in 2017Q1\n",
    "# -----------------------------\n",
    "apple_q1 = df_raw[(df_raw['Brand'] == \"Apple\") & (df_raw['Year'] == 2017) & (df_raw['Quarter'] == '2017Q1')]\n",
    "apple_segment_q1 = df_segment[(df_segment['Brand'] == \"Apple\") & (df_segment['Year'] == 2017) & (df_segment['Quarter'] == '2017Q1')]"
   ]
  },
  {
   "cell_type": "code",
   "execution_count": null,
   "id": "d78cef4c",
   "metadata": {},
   "outputs": [],
   "source": [
    "# -----------------------------\n",
    "# 🔗 Merge Segment Data with Product Data\n",
    "# -----------------------------\n",
    "merge_cols = ['Quarter', 'Brand', 'OS Version', 'Screen Size', 'Storage (GB)']\n",
    "df_model_subset = df_clean[merge_cols + ['Model Name']]\n",
    "df_segment_full = df_segment[\n",
    "    merge_cols + ['Year', 'RAM (GB)', 'Units', 'Value (US$M)', 'Processor Speed Band', 'Segment Group']\n",
    "]\n",
    "\n",
    "df_merged = df_segment_full.merge(df_model_subset, how='inner', on=merge_cols)\n",
    "df_merged = df_merged[df_merged['Segment Group'] == 'Consumer'].drop_duplicates()"
   ]
  },
  {
   "cell_type": "code",
   "execution_count": null,
   "id": "5617c2de",
   "metadata": {},
   "outputs": [],
   "source": [
    "# -----------------------------\n",
    "# 💰 Compute ASP again\n",
    "# -----------------------------\n",
    "df_merged['ASP'] = (df_merged['Value (US$M)'] * 1_000_000) / df_merged['Units']\n",
    "brand_revenue = df_merged.groupby('Brand')['Value (US$M)'].sum()\n",
    "top_models = df_merged.nlargest(3000, 'Value (US$M)')"
   ]
  },
  {
   "cell_type": "code",
   "execution_count": null,
   "id": "65ad35b5",
   "metadata": {},
   "outputs": [],
   "source": [
    "# -----------------------------\n",
    "# 📊 Descriptive Statistics\n",
    "# -----------------------------\n",
    "selected_brands = [\n",
    "    'Apple', 'Samsung', 'Motorola', 'HTC', 'Google', 'LG Electronics',\n",
    "    'Alcatel', 'BlackBerry', 'T-Mobile', 'AT&T', 'Kyocera', 'OnePlus',\n",
    "    'ZTE', 'Huawei', 'Pantech', 'Nokia', 'HP', 'Microsoft', 'Sony Ericsson',\n",
    "    'Palm', 'Sony', 'Coolpad', 'Sprint', 'Sanyo', 'Red'\n",
    "]\n",
    "df_merged[df_merged['Brand'].isin(selected_brands)].describe()\n",
    "\n",
    "print(\"Overall Units Summary:\\n\", df_clean['Units'].describe())\n",
    "print(\"\\nAverage Storage (GB):\", df_merged['Storage (GB)'].mean())"
   ]
  },
  {
   "cell_type": "code",
   "execution_count": null,
   "id": "19a5b13c",
   "metadata": {},
   "outputs": [],
   "source": [
    "# -----------------------------\n",
    "# 🧹 (Optional) Reload Cleaned Data\n",
    "# -----------------------------\n",
    "df_final = pd.read_csv('/content/drive/MyDrive/OUTPUT DATA(FROM IDC)/cleaned(ver 1).csv')\n",
    "# Example fix for incorrect syntax:\n",
    "# bl = ['Apple', 'Samsung']\n",
    "# df_final[df_final['Brand'].isin(bl)]"
   ]
  }
 ],
 "metadata": {
  "kernelspec": {
   "display_name": "Python 3 (ipykernel)",
   "language": "python",
   "name": "python3"
  },
  "language_info": {
   "codemirror_mode": {
    "name": "ipython",
    "version": 3
   },
   "file_extension": ".py",
   "mimetype": "text/x-python",
   "name": "python",
   "nbconvert_exporter": "python",
   "pygments_lexer": "ipython3",
   "version": "3.9.6"
  }
 },
 "nbformat": 4,
 "nbformat_minor": 5
}
