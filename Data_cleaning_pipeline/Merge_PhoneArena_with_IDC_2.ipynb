{
 "cells": [
  {
   "cell_type": "markdown",
   "id": "34ad3564",
   "metadata": {},
   "source": [
    "# Merging Phone Arena Data with IDC Data (IVs)\n",
    "This notebook loads preprocessed IDC and Phone Arena data, applies name cleaning/matching rules,\n",
    "performs replacements for known alias models (e.g., GOOGLENEXUS → LGNEXUS), and merges datasets for BLP modeling.\n",
    "\n",
    "This generates : (Phone Arena data IDC(merged).csv)\n",
    "\n"
   ]
  },
  {
   "cell_type": "code",
   "execution_count": null,
   "id": "460316e6",
   "metadata": {},
   "outputs": [],
   "source": [
    "import pandas as pd\n",
    "import numpy as np\n",
    "\n",
    "# Load the formatted IDC data and PhoneArena feature data\n",
    "df_idc = pd.read_csv('/content/drive/MyDrive/OUTPUT DATA(FROM IDC)/Formatted data for BLP_1.csv')\n",
    "df_phone = pd.read_csv('/content/drive/MyDrive/OUTPUT DATA(FROM IDC)/COMPLETE DATA FILEs/phone data from phonearena.csv')"
   ]
  },
  {
   "cell_type": "code",
   "execution_count": null,
   "id": "d733c094",
   "metadata": {},
   "outputs": [],
   "source": [
    "# Drop irrelevant columns from phonearena\n",
    "dropcols = [\n",
    "    'Unnamed: 123', 'Tablet dock:', 'Broadcast Mobile TV:', 'TDMA:', 'Tablet dock:', '3D capture:',\n",
    "    'Carrier locked:', 'ROM:', 'Headphones:', 'Radio:', 'Materials:', 'Folded:', 'Watch']  # example subset\n",
    "df_phone_cleaned = df_phone.drop(columns=[col for col in dropcols if col in df_phone.columns], errors='ignore')"
   ]
  },
  {
   "cell_type": "code",
   "execution_count": null,
   "id": "bac09b11",
   "metadata": {},
   "outputs": [],
   "source": [
    "# Clean model names and remove tablets/watches\n",
    "df_idc['Brand'] = df_idc['Brand'].replace({'LG Electronics': 'LG'})\n",
    "df_idc['Model Name'] = (df_idc['Brand'] + df_idc['Model Name']).str.upper().str.replace(' ', '').str.replace(\"'\", '')\n",
    "df_phone_cleaned['Model Name'] = df_phone_cleaned['Model Name'].str.upper().str.replace(' ', '').str.replace(\"'\", '')\n",
    "df_phone_cleaned = df_phone_cleaned[~df_phone_cleaned['Model Name'].str.contains('WATCH', na=False)]"
   ]
  },
  {
   "cell_type": "code",
   "execution_count": null,
   "id": "d5685ada",
   "metadata": {},
   "outputs": [],
   "source": [
    "# Replace known aliases to match naming convention\n",
    "alias_dict = {\n",
    "    'GOOGLENEXUS4': 'LGNEXUS4', 'GOOGLENEXUS5': 'LGNEXUS5', 'GOOGLENEXUSX': 'LGNEXUSX',\n",
    "    'SAMSUNGGALAXYNEXUS': 'SAMSUNGNEXUS', 'GOOGLENEXUS6': 'MOTOROLANEXUS6',\n",
    "    'GOOGLENEXUS6P': 'HUAWEINEXUS6P', 'NOKIA6(2018)': 'NOKIA6.1',\n",
    "    'BLACKBERRYCURVE3G': 'BLACKBERRYCURVE9300', 'HTCSNAPCDMA': 'HTCSNAPS511',\n",
    "    'SAMSUNGBEHOLDII': 'SAMSUNGBEHOLD2'\n",
    "}\n",
    "df_phone_cleaned['Model Name'] = df_phone_cleaned['Model Name'].replace(alias_dict)"
   ]
  },
  {
   "cell_type": "code",
   "execution_count": null,
   "id": "ffdb6a68",
   "metadata": {},
   "outputs": [],
   "source": [
    "# Load fuzzy match file (already verified)\n",
    "fuzzy_match = pd.read_csv('/content/drive/MyDrive/OUTPUT DATA(FROM IDC)/Fuzzy MATCH/fuzzy match (manually checked).csv')\n",
    "fuzzy_match = fuzzy_match.dropna().drop(columns=['Unnamed: 0'], errors='ignore')\n",
    "fuzzy_match['IDC'] = fuzzy_match['IDC'].str.upper().str.replace(' ', '')\n",
    "fuzzy_match['Phone Arena'] = fuzzy_match['Phone Arena'].str.upper().str.replace(' ', '')\n",
    "\n",
    "# Apply fuzzy match mapping to phonearena model names\n",
    "fuzzy_dict = fuzzy_match.set_index('Phone Arena')['IDC'].to_dict()\n",
    "df_phone_cleaned['Model Name'] = df_phone_cleaned['Model Name'].replace(fuzzy_dict)"
   ]
  },
  {
   "cell_type": "code",
   "execution_count": null,
   "id": "726e856f",
   "metadata": {},
   "outputs": [],
   "source": [
    "# Final merge between IDC data and phonearena feature data\n",
    "merged_df = pd.merge(df_idc, df_phone_cleaned, how='left', on='Model Name')\n",
    "merged_df = merged_df.applymap(lambda x: x.strip() if isinstance(x, str) else x)\n",
    "\n",
    "# Save final merged output\n",
    "output_path = '/content/drive/MyDrive/OUTPUT DATA(FROM IDC)/Phone Arena data IDC(merged).csv'\n",
    "merged_df.to_csv(output_path, index=False)\n",
    "print(f\"✅ Merged data saved to: {output_path}\")"
   ]
  }
 ],
 "metadata": {
  "kernelspec": {
   "display_name": "Python 3 (ipykernel)",
   "language": "python",
   "name": "python3"
  },
  "language_info": {
   "codemirror_mode": {
    "name": "ipython",
    "version": 3
   },
   "file_extension": ".py",
   "mimetype": "text/x-python",
   "name": "python",
   "nbconvert_exporter": "python",
   "pygments_lexer": "ipython3",
   "version": "3.9.6"
  }
 },
 "nbformat": 4,
 "nbformat_minor": 5
}
