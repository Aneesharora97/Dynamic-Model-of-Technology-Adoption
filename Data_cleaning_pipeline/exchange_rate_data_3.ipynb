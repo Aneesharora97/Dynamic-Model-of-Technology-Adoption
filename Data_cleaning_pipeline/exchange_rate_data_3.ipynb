{
 "cells": [
  {
   "cell_type": "markdown",
   "metadata": {},
   "source": [
    "# Quarterly Exchange Rate Analysis\n",
    "\n",
    "## Description\n",
    "This notebook processes exchange rate data. It\n",
    "- **Reads**: CSV files containing daily exchange rates for Chinese Yuan to USD (`Chinese yuan to USD.csv`), South Korean Won to USD (`South Korean WON to USD (Exchange rate).csv`), and Japanese Yen to USD (`Japanese Yen to USD (Exchange Rate).csv`).\n",
    "- **Processes**: Standardizes column names, converts dates, calculates quarterly mean exchange rates, and merges results.\n",
    "- **Produces**: A CSV file (`exchange_rate_ivs.csv`) with quarterly mean exchange rates for the three currencies, indexed by quarter (e.g., '2022Q1').\n"
   ]
  },
  {
   "cell_type": "code",
   "execution_count": null,
   "metadata": {},
   "outputs": [],
   "source": [
    "import pandas as pd\n",
    "import numpy as np\n",
    "\n",
    "# ------------------------------\n",
    "# Data Loading and Initial Cleaning\n",
    "# ------------------------------\n",
    "# Load exchange rate data for Chinese Yuan, South Korean Won, and Japanese Yen to USD.\n",
    "yuan_usd = pd.read_csv(\"/content/drive/MyDrive/PhD thesis (data files)/Chinese yuan to USD.csv\")\n",
    "won_usd = pd.read_csv(\"/content/drive/MyDrive/PhD thesis (data files)/South Korean WON to USD (Exchange rate).csv\")\n",
    "yen_usd = pd.read_csv(\"/content/drive/MyDrive/PhD thesis (data files)/Japanese Yen to USD (Exchange Rate).csv\")\n",
    "\n",
    "# Standardize column names for consistency across DataFrames.\n",
    "won_usd = won_usd.rename(columns={\"DEXKOUS\": \"value\"})\n",
    "yen_usd = yen_usd.rename(columns={\"DEXJPUS\": \"value\"})\n",
    "\n",
    "# Convert 'DATE' columns to datetime and drop original 'DATE' column.\n",
    "dataframes = [yuan_usd, won_usd, yen_usd]\n",
    "for df in dataframes:\n",
    "    df[\"date\"] = pd.to_datetime(df[\"DATE\"])\n",
    "    df.drop(columns=[\"DATE\"], inplace=True)\n",
    "\n",
    "# Convert 'value' columns to numeric, coercing invalid entries to NaN.\n",
    "for df in [won_usd, yen_usd]:\n",
    "    df[\"value\"] = pd.to_numeric(df[\"value\"], errors=\"coerce\")"
   ]
  },
  {
   "cell_type": "markdown",
   "metadata": {},
   "source": [
    "## Extract Month and Year\n",
    "\n",
    "Extract `month` and `year` from the `date` column to facilitate quarterly grouping. This uses pandas' vectorized datetime operations for efficiency."
   ]
  },
  {
   "cell_type": "code",
   "execution_count": null,
   "metadata": {},
   "outputs": [],
   "source": [
    "# Add 'month' and 'year' columns for quarter calculation.\n",
    "for df in dataframes:\n",
    "    df[\"month\"] = df[\"date\"].dt.month\n",
    "    df[\"year\"] = df[\"date\"].dt.year"
   ]
  },
  {
   "cell_type": "markdown",
   "metadata": {},
   "source": [
    "## Calculate Quarterly Means\n",
    "\n",
    "Define a function to calculate quarterly means for exchange rates. The function:\n",
    "- Assigns quarters (Q1, Q2, Q3, Q4) based on months.\n",
    "- Creates a `quarter` column (e.g., '2022Q1').\n",
    "- Returns a DataFrame with the mean exchange rate per quarter."
   ]
  },
  {
   "cell_type": "code",
   "execution_count": null,
   "metadata": {},
   "outputs": [],
   "source": [
    "def calculate_quarterly_means(df):\n",
    "    \"\"\"\n",
    "    Calculate the quarterly mean of exchange rate values from a DataFrame.\n",
    "\n",
    "    Parameters:\n",
    "        df (pd.DataFrame): Input DataFrame with 'date', 'value', 'month', and 'year' columns.\n",
    "\n",
    "    Returns:\n",
    "        pd.DataFrame: DataFrame with quarterly mean values, indexed by 'quarter' (e.g., '2022Q1').\n",
    "    \"\"\"\n",
    "    # Assign quarters using vectorized operations for efficiency.\n",
    "    conditions = [\n",
    "        df[\"month\"].isin([1, 2, 3]),\n",
    "        df[\"month\"].isin([4, 5, 6]),\n",
    "        df[\"month\"].isin([7, 8, 9]),\n",
    "        df[\"month\"].isin([10, 11, 12])\n",
    "    ]\n",
    "    choices = [\"Q1\", \"Q2\", \"Q3\", \"Q4\"]\n",
    "    df[\"quarter\"] = np.select(conditions, choices)\n",
    "    \n",
    "    # Create 'quarter' column by concatenating year and quarter.\n",
    "    df[\"quarter\"] = df[\"year\"].astype(str) + df[\"quarter\"]\n",
    "    \n",
    "    # Group by quarter and calculate mean of 'value'.\n",
    "    return df.groupby(\"quarter\")[\"value\"].mean().reset_index()"
   ]
  },
  {
   "cell_type": "markdown",
   "metadata": {},
   "source": [
    "## Apply Quarterly Calculation\n",
    "\n",
    "Apply the `calculate_quarterly_means` function to each currency's DataFrame to compute quarterly averages."
   ]
  },
  {
   "cell_type": "code",
   "execution_count": null,
   "metadata": {},
   "outputs": [],
   "source": [
    "# Calculate quarterly means for each currency.\n",
    "yuan_quarterly = calculate_quarterly_means(yuan_usd)\n",
    "won_quarterly = calculate_quarterly_means(won_usd)\n",
    "yen_quarterly = calculate_quarterly_means(yen_usd)"
   ]
  },
  {
   "cell_type": "markdown",
   "metadata": {},
   "source": [
    "## Merge and Save Results\n",
    "\n",
    "Merge the quarterly DataFrames on the `quarter` column, rename columns for clarity, and save the result to a CSV file."
   ]
  },
  {
   "cell_type": "code",
   "execution_count": null,
   "metadata": {},
   "outputs": [],
   "source": [
    "# Merge DataFrames on 'quarter' column.\n",
    "merged_df = pd.merge(yen_quarterly, won_quarterly, on=\"quarter\", suffixes=(\"_yen\", \"_won\"))\n",
    "merged_df = pd.merge(merged_df, yuan_quarterly, on=\"quarter\")\n",
    "\n",
    "# Rename columns for clarity and consistency.\n",
    "merged_df.columns = [\"quarter\", \"japan_usd\", \"korea_usd\", \"china_usd\"]\n",
    "\n",
    "# Save the merged DataFrame to a CSV file.\n",
    "merged_df.to_csv(\"/content/drive/MyDrive/OUTPUT DATA(FROM IDC)/exchange_rate_ivs.csv\", index=False)"
   ]
  },
  {
   "cell_type": "markdown",
   "metadata": {},
   "source": [
    "The code in in file: \"final merge(with_ivs)\" is infact implemented below because it was too short for a separate file"
   ]
  },
  {
   "cell_type": "code",
   "execution_count": null,
   "metadata": {},
   "outputs": [],
   "source": [
    "#loading data\n",
    "phone_arena=pd.read_csv(\"/content/drive/MyDrive/OUTPUT DATA(FROM IDC)/Phone Arena data IDC(merged).csv\")\n",
    "\n",
    "#merging with phone arena\n",
    "final_df=pd.merge(phone_arena,merged_df,on=\"Quarter\",how=\"left\")\n",
    "\n",
    "#converting to csv\n",
    "final_df.to_csv(\"/content/drive/MyDrive/OUTPUT DATA(FROM IDC)/complete data( exchange rates IDC, Phonearena(Feb 9,2024).csv\")\n"
   ]
  }
 ],
 "metadata": {
  "kernelspec": {
   "display_name": "Python 3 (ipykernel)",
   "language": "python",
   "name": "python3"
  },
  "language_info": {
   "codemirror_mode": {
    "name": "ipython",
    "version": 3
   },
   "file_extension": ".py",
   "mimetype": "text/x-python",
   "name": "python",
   "nbconvert_exporter": "python",
   "pygments_lexer": "ipython3",
   "version": "3.9.6"
  }
 },
 "nbformat": 4,
 "nbformat_minor": 4
}
