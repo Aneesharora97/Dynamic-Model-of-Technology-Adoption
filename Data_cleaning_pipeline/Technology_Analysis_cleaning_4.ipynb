{
 "cells": [
  {
   "cell_type": "markdown",
   "id": "fd83cb8e",
   "metadata": {},
   "source": [
    "# Smartphone Spectrum Technology Analysis\n",
    "\n",
    "## Description\n",
    "This Jupyter Notebook processes smartphone data to analyze cellular technology (4G, 4.5G, 5G). It combines three logical steps:\n",
    "- **Step 1: LTE-A Identification: identifying 4.5G in the data**\n",
    "- **Step 2: IDC Data Integration**\n",
    "- **Step 3: Spectrum Technology Assignment**\n",
    "\n",
    "The code does the foolowing tasks:\n",
    "1) Filter the distinction between 4g and 4.5 g. <br>\n",
    "2) Extract the generation data from IDC file. <br>\n",
    "3) Choose the max possiblev available spectrum tech in the smartphone. This is because all 5g phones have 4g, 4.5g capability. so we choose the max available between the two.\n",
    "\n",
    "\n",
    "### INPUT:\n",
    "- complete data( exchange rates IDC, Phonearena(Feb 9,2024).csv\n",
    "- phone data from phonearena.csv\n",
    "- H_Data_smartphone.csv\n",
    "\n",
    "### Output:\n",
    "- Final file with accurate `Spec_tech` assignments based on LTE-A and generation info.- FINAL DATA_1.csv"
   ]
  },
  {
   "cell_type": "code",
   "execution_count": null,
   "id": "87b1bd5f",
   "metadata": {},
   "outputs": [],
   "source": [
    "import pandas as pd\n",
    "import numpy as np\n",
    "\n",
    "pd.set_option('display.max_columns', None)\n",
    "\n",
    "try:\n",
    "    phone_data = pd.read_csv(\"/content/drive/MyDrive/OUTPUT DATA(FROM IDC)/complete data( exchange rates IDC, Phonearena(Feb 9,2024).csv\")\n",
    "    phonearena_ref = pd.read_csv(\"/content/drive/MyDrive/OUTPUT DATA(FROM IDC)/COMPLETE DATA FILEs/phone data from phonearena.csv\")\n",
    "    idc_data = pd.read_csv(\"/content/drive/MyDrive/IDC data/H_Data_smartphone.csv\")\n",
    "except FileNotFoundError as e:\n",
    "    print(f\"Error loading files: {e}\")\n",
    "    raise"
   ]
  },
  {
   "cell_type": "code",
   "execution_count": null,
   "id": "cdec7010",
   "metadata": {},
   "outputs": [],
   "source": [
    "# Rename columns\n",
    "phone_data = phone_data.rename(columns={\n",
    "    \"Model Name\": \"model_name\",\n",
    "    \"\\n\\nCellular\\n\\n\": \"cellular\",\n",
    "    \"Data Speed:\": \"data_speed\",\n",
    "    \"Differences from the main variant:\": \"variant_differences\",\n",
    "    \"Quarter\": \"quarter\",\n",
    "    \"Brand\": \"brand\",\n",
    "    \"Screen Size\": \"screen_size\",\n",
    "    \"Technology:\": \"technology\"\n",
    "})"
   ]
  },
  {
   "cell_type": "code",
   "execution_count": null,
   "id": "6b840274",
   "metadata": {},
   "outputs": [],
   "source": [
    "# Combine columns\n",
    "cellular_cols = ['cellular', 'data_speed', 'variant_differences']\n",
    "phone_data['cellular_combined'] = phone_data[cellular_cols].apply(lambda x: ' '.join(x.dropna()), axis=1)\n",
    "\n",
    "# Flag LTE-A support\n",
    "phone_data['cellular_lte_a'] = phone_data['cellular_combined'].where(\n",
    "    phone_data['cellular_combined'].str.contains(\"LTE-A\", na=False), \"Not LTE-A\")\n",
    "phone_data.loc[phone_data['cellular_lte_a'].str.contains(\"LTE-A\", na=False), 'cellular_lte_a'] = '4.5'"
   ]
  },
  {
   "cell_type": "code",
   "execution_count": null,
   "id": "15b917d0",
   "metadata": {},
   "outputs": [],
   "source": [
    "# Clean IDC data\n",
    "idc_data['Brand'] = idc_data['Brand'].replace('LG Electronics', 'LG')\n",
    "idc_data['Model Name'] = (idc_data['Brand'] + ' ' + idc_data['Model Name']).str.upper()\n",
    "idc_data['Model Name'] = idc_data['Model Name'].str.replace(' ', '').str.replace(\"'\", '')\n",
    "idc_data = idc_data.rename(columns={\n",
    "    'Model Name': 'model_name',\n",
    "    'Brand': 'brand',\n",
    "    'Screen Size': 'screen_size',\n",
    "    'Storage (GB)': 'storage_gb',\n",
    "    'RAM (GB)': 'ram_gb',\n",
    "    'Generation': 'generation',\n",
    "    'Quarter': 'quarter'\n",
    "})"
   ]
  },
  {
   "cell_type": "code",
   "execution_count": null,
   "id": "8cb39bd0",
   "metadata": {},
   "outputs": [],
   "source": [
    "# Merge\n",
    "merged_data = pd.merge(\n",
    "    phone_data,\n",
    "    idc_data[['model_name', 'brand', 'screen_size', 'storage_gb', 'ram_gb', 'generation', 'quarter']],\n",
    "    on=['quarter', 'brand', 'screen_size', 'model_name'],\n",
    "    how='left'\n",
    ")\n",
    "merged_data.drop(columns=[col for col in merged_data.columns if 'Unnamed' in col], inplace=True)"
   ]
  },
  {
   "cell_type": "code",
   "execution_count": null,
   "id": "535b614f",
   "metadata": {},
   "outputs": [],
   "source": [
    "# Assign Spec_tech\n",
    "merged_data['generation_1'] = merged_data['generation'].str.replace('G', '')\n",
    "\n",
    "def get_max_tech(row):\n",
    "    try:\n",
    "        val1 = float(row['cellular_lte_a']) if row['cellular_lte_a'] != 'Not LTE-A' else 0\n",
    "        val2 = float(row['generation_1']) if pd.notnull(row['generation_1']) else 0\n",
    "        return str(max(val1, val2))\n",
    "    except:\n",
    "        return row['generation_1']\n",
    "\n",
    "merged_data['spec_tech'] = merged_data.apply(get_max_tech, axis=1)"
   ]
  },
  {
   "cell_type": "code",
   "execution_count": null,
   "id": "5b35791a",
   "metadata": {},
   "outputs": [],
   "source": [
    "# Clean up and save\n",
    "merged_data = merged_data[merged_data['model_name'] != 'SAMSUNGGALAXYSFASCINATE']\n",
    "merged_data.drop(columns=['generation_1'], inplace=True, errors='ignore')\n",
    "merged_data.to_csv(\"/content/drive/MyDrive/OUTPUT DATA(FROM IDC)/COMPLETE DATA FILEs/FINAL DATA_1.csv\", index=False)"
   ]
  }
 ],
 "metadata": {
  "kernelspec": {
   "display_name": "Python 3 (ipykernel)",
   "language": "python",
   "name": "python3"
  },
  "language_info": {
   "codemirror_mode": {
    "name": "ipython",
    "version": 3
   },
   "file_extension": ".py",
   "mimetype": "text/x-python",
   "name": "python",
   "nbconvert_exporter": "python",
   "pygments_lexer": "ipython3",
   "version": "3.9.6"
  }
 },
 "nbformat": 4,
 "nbformat_minor": 5
}
