{
 "cells": [
  {
   "cell_type": "markdown",
   "id": "3966ae07",
   "metadata": {},
   "source": [
    "# Generate Formatted Data for BLP\n",
    "This notebook loads cleaned IDC data { cleaned(ver 1).csv } and aggregates it by product characteristics to create the formatted dataset used for BLP demand estimation.\n",
    "\n",
    "It outputs a file: `Formatted data for BLP_1.csv`."
   ]
  },
  {
   "cell_type": "code",
   "execution_count": null,
   "id": "d7888255",
   "metadata": {},
   "outputs": [],
   "source": [
    "import pandas as pd\n",
    "\n",
    "# Load cleaned IDC data\n",
    "df = pd.read_csv('/content/drive/MyDrive/OUTPUT DATA(FROM IDC)/COMPLETE DATA FILEs/cleaned(ver 1).csv')\n",
    "print(\"Initial shape:\", df.shape)\n",
    "print(\"Columns:\", df.columns.tolist())"
   ]
  },
  {
   "cell_type": "code",
   "execution_count": null,
   "id": "6ea38b56",
   "metadata": {},
   "outputs": [],
   "source": [
    "# Sort for readability\n",
    "df = df.sort_values(['Brand', 'Model Name'])"
   ]
  },
  {
   "cell_type": "code",
   "execution_count": null,
   "id": "cb7ca828",
   "metadata": {},
   "outputs": [],
   "source": [
    "# Group and average duplicate rows by product attributes\n",
    "group_cols = [\n",
    "    'Quarter', 'Year', 'Brand', 'OS Version', 'Screen Size',\n",
    "    'Storage (GB)', 'Processor Speed Band', 'Segment Group', 'Model Name'\n",
    "]\n",
    "\n",
    "df_grouped = df.groupby(group_cols)[['ASP', 'Units']].mean().reset_index()"
   ]
  },
  {
   "cell_type": "code",
   "execution_count": null,
   "id": "4abfd1ff",
   "metadata": {},
   "outputs": [],
   "source": [
    "# Save output\n",
    "output_path = '/content/drive/MyDrive/OUTPUT DATA(FROM IDC)/Formatted data for BLP_1.csv'\n",
    "df_grouped.to_csv(output_path, index=False)\n",
    "print(f\"Formatted BLP data saved to: {output_path}\")"
   ]
  }
 ],
 "metadata": {
  "kernelspec": {
   "display_name": "Python 3 (ipykernel)",
   "language": "python",
   "name": "python3"
  },
  "language_info": {
   "codemirror_mode": {
    "name": "ipython",
    "version": 3
   },
   "file_extension": ".py",
   "mimetype": "text/x-python",
   "name": "python",
   "nbconvert_exporter": "python",
   "pygments_lexer": "ipython3",
   "version": "3.9.6"
  }
 },
 "nbformat": 4,
 "nbformat_minor": 5
}
